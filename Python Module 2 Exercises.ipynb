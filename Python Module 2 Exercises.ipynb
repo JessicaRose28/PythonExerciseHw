{
 "cells": [
  {
   "cell_type": "markdown",
   "metadata": {},
   "source": [
    "## Python Module 2 Exercises"
   ]
  },
  {
   "cell_type": "markdown",
   "metadata": {},
   "source": [
    "1. Print out a data type of a variable?"
   ]
  },
  {
   "cell_type": "code",
   "execution_count": 4,
   "metadata": {},
   "outputs": [
    {
     "data": {
      "text/plain": [
       "float"
      ]
     },
     "execution_count": 4,
     "metadata": {},
     "output_type": "execute_result"
    }
   ],
   "source": [
    "type(123.45)"
   ]
  },
  {
   "cell_type": "markdown",
   "metadata": {},
   "source": [
    "2. Round 4.5667 to the nearest hundreth using a build-in function, round()."
   ]
  },
  {
   "cell_type": "code",
   "execution_count": 7,
   "metadata": {},
   "outputs": [
    {
     "data": {
      "text/plain": [
       "4.57"
      ]
     },
     "execution_count": 7,
     "metadata": {},
     "output_type": "execute_result"
    }
   ],
   "source": [
    "round(4.5667 , 2)"
   ]
  },
  {
   "cell_type": "markdown",
   "metadata": {},
   "source": [
    "3. Convert \"657\" to an integer data type"
   ]
  },
  {
   "cell_type": "code",
   "execution_count": 8,
   "metadata": {},
   "outputs": [
    {
     "data": {
      "text/plain": [
       "657"
      ]
     },
     "execution_count": 8,
     "metadata": {},
     "output_type": "execute_result"
    }
   ],
   "source": [
    "int(\"657\")"
   ]
  },
  {
   "cell_type": "markdown",
   "metadata": {},
   "source": [
    "4. Write a function to calculate the miles per gallon.\n",
    "Get a miles driven and gallons used from a user and call your function to calculate the miles per gallon. "
   ]
  },
  {
   "cell_type": "code",
   "execution_count": 18,
   "metadata": {},
   "outputs": [
    {
     "name": "stdout",
     "output_type": "stream",
     "text": [
      "Enter number of miles driven: 50\n",
      "Enter number of gallons used: 5\n",
      "Your total miles per gallon is:  10\n"
     ]
    }
   ],
   "source": [
    "def miles_per_gallon (miles, gallon):\n",
    "    print(\"Your total miles per gallon is: \", (miles // gallon))\n",
    "\n",
    "#get miles and gallons from user \n",
    "miles = int(input(\"Enter number of miles driven: \"))\n",
    "gallon = int(input(\"Enter number of gallons used: \"))\n",
    "\n",
    "#call your function to calculate miles per gallon\n",
    "miles_per_gallon(miles, gallon)\n",
    "\n"
   ]
  },
  {
   "cell_type": "markdown",
   "metadata": {},
   "source": [
    "5. Enhance your function from exercise 4. Additionally, get a gas price per gallon from a user and write a program to compute the total gas cost and cost per mile. \n",
    "\n",
    "The output should look something like this:\n",
    "\n",
    "    Enter miles driven:            150\n",
    "    Enter gallons of gas used:     15\n",
    "    Enter cost per gallon:          3\n",
    "\n",
    "    Miles Per Gallon:   10.0\n",
    "    Total Gas Cost:     45.0\n",
    "    Cost per Mile:      0.3\n"
   ]
  },
  {
   "cell_type": "code",
   "execution_count": 67,
   "metadata": {},
   "outputs": [
    {
     "name": "stdout",
     "output_type": "stream",
     "text": [
      "Enter miles driven: 150\n",
      "Enter gallons of gas used: 15\n",
      "Enter cost per gallon: 3\n",
      "Miles Per Gallon:  10\n",
      "Total Gas Cost:  45.0\n",
      "Cost per Mile:  0.0\n"
     ]
    }
   ],
   "source": [
    "def miles_per_gallon (miles, gallon, gasprice):\n",
    "    print(\"Miles Per Gallon: \", (miles // gallon))\n",
    "    print(\"Total Gas Cost: \", (gasprice * gallon))\n",
    "    print(\"Cost per Mile: \", (gasprice // (miles // gallon)))\n",
    "    \n",
    "\n",
    "#get miles, gallons and gas price per gallon from user \n",
    "miles = int(input(\"Enter miles driven: \"))\n",
    "gallon = int(input(\"Enter gallons of gas used: \"))\n",
    "gasprice = float(input(\"Enter cost per gallon: \"))\n",
    "\n",
    "#call your function to calculate miles per gallon\n",
    "miles_per_gallon(miles, gallon, gasprice)\n",
    "\n"
   ]
  },
  {
   "cell_type": "code",
   "execution_count": null,
   "metadata": {},
   "outputs": [],
   "source": [
    "\n"
   ]
  },
  {
   "cell_type": "markdown",
   "metadata": {},
   "source": [
    "6. Write a function called multiply_two() that accepts two parameters. The function should print a message like '15 + 2 = 17'.  Randomly generate two numbers between 1 and 100, then call the function with the two random numbers."
   ]
  },
  {
   "cell_type": "code",
   "execution_count": 75,
   "metadata": {},
   "outputs": [
    {
     "name": "stdout",
     "output_type": "stream",
     "text": [
      "31\n"
     ]
    }
   ],
   "source": [
    "import random as rand   #import from library \n",
    "\n",
    "def multiply_two(x,y):\n",
    "    print(x + y)\n",
    "\n",
    "\n",
    "x = rand.randint(0,100)\n",
    "y = rand.randint(0,100)\n",
    "\n",
    "multiply_two(x,y)"
   ]
  },
  {
   "cell_type": "markdown",
   "metadata": {},
   "source": [
    "7. Write a function called make_shirt() that accepts a size and the text of a message. The function should print a sentence summarizing the size of the shirt and the message printed on it. The default shirt size is large and default message is 'I love Python!' Make a default size shirt with a message, a medium shirt with the default message, and a shirt of any size with a different message."
   ]
  },
  {
   "cell_type": "code",
   "execution_count": null,
   "metadata": {},
   "outputs": [],
   "source": [
    "def make_shirt(size, text):\n",
    "    print()"
   ]
  },
  {
   "cell_type": "markdown",
   "metadata": {},
   "source": [
    "8. Create a function for a multiplication table.  Get a number from a user and then call you function which produces a multiplication table for that number.\n",
    "The output should look something like this:\n",
    "\n",
    "        Enter a number: 3\n",
    "        3 X 1 = 3\n",
    "        3 X 2 = 6\n",
    "        3 X 3 = 9\n",
    "        3 X 4 = 12\n",
    "        3 X 5 = 15\n",
    "        3 X 6 = 18\n",
    "        3 X 7 = 21\n",
    "        3 X 8 = 24\n",
    "        3 X 9 = 27\n",
    "        "
   ]
  },
  {
   "cell_type": "code",
   "execution_count": 97,
   "metadata": {},
   "outputs": [
    {
     "name": "stdout",
     "output_type": "stream",
     "text": [
      "Enter a number: 9\n",
      "9 X 1 = 9\n",
      "9 X 2 = 18\n",
      "9 X 3 = 27\n",
      "9 X 4 = 36\n",
      "9 X 5 = 45\n",
      "9 X 6 = 54\n",
      "9 X 7 = 63\n",
      "9 X 8 = 72\n",
      "9 X 9 = 81\n"
     ]
    }
   ],
   "source": [
    "def multiplication_table(x):\n",
    "    print(x,\"X 1 =\", x*1)\n",
    "    print(x,\"X 2 =\", x*2)\n",
    "    print(x,\"X 3 =\", x*3)\n",
    "    print(x,\"X 4 =\", x*4)\n",
    "    print(x,\"X 5 =\", x*5)\n",
    "    print(x,\"X 6 =\", x*6)\n",
    "    print(x,\"X 7 =\", x*7)\n",
    "    print(x,\"X 8 =\", x*8)\n",
    "    print(x,\"X 9 =\", x*9)\n",
    "    \n",
    "x = int(input(\"Enter a number: \"))\n",
    "\n",
    "\n",
    "multiplication_table(x)\n"
   ]
  },
  {
   "cell_type": "markdown",
   "metadata": {},
   "source": [
    "9. Write a function that accepts a string and returns a string that is \n",
    "    - without any leading nor trailing blanks\n",
    "    - converts to all capital letters\n",
    "    - and replaces all blanks with a period(.).  \n",
    "\n",
    "Write a program to accept a string from a user then call your function and display the original string and changed string.  \n",
    "\n",
    "The output should look something like this:\n",
    "\n",
    "        Enter a text: may your dreams come true\n",
    "        \n",
    "        Original Text: may your dreams come true\n",
    "        New Text: MAY.YOUR.DREAMS.COME.TRUE"
   ]
  },
  {
   "cell_type": "code",
   "execution_count": 134,
   "metadata": {},
   "outputs": [
    {
     "name": "stdout",
     "output_type": "stream",
     "text": [
      "Enter a text: hi you \n",
      "Original Text:  hi you \n",
      "New Text:  hi you \n",
      "Original Text:  HI YOU \n",
      "New Text:  HI YOU \n"
     ]
    }
   ],
   "source": [
    "def string1(message):\n",
    "    print(\"Original Text: \", message)\n",
    "    print(\"New Text: \", message)\n",
    "\n",
    "message = str(input(\"Enter a text: \"))\n",
    "\n",
    "\n",
    "string1(message)\n",
    "string1(message.upper())        "
   ]
  },
  {
   "cell_type": "markdown",
   "metadata": {},
   "source": [
    "10. Write a function that returns a randomly selected character from a passed string. Write a program to accept a string from a user then call your function and display the original string and selected character.\n",
    "\n",
    "The output should look something like this:\n",
    "\n",
    "        Enter a text: functions\n",
    "        Original Text:\tfunctions\n",
    "        Random character:\ts"
   ]
  },
  {
   "cell_type": "code",
   "execution_count": null,
   "metadata": {},
   "outputs": [],
   "source": []
  },
  {
   "cell_type": "markdown",
   "metadata": {},
   "source": [
    "11. Write a program that asks the user to enter the width and length of a room. Once the values have been read, your program should compute and display the area of the room. The length and the width will be entered as floating point numbers. Include units in your prompt and output message; either feet or meters, depending on which unit you are more comfortable working with."
   ]
  },
  {
   "cell_type": "code",
   "execution_count": null,
   "metadata": {},
   "outputs": [],
   "source": []
  },
  {
   "cell_type": "markdown",
   "metadata": {},
   "source": [
    "12. The program that you create for this exercise will begin by reading the cost of a meal ordered at a restaurant from the user. Then your program will compute the tax and tip for the meal. Use your local tax rate when computing the amount of tax owing. Compute the tip as 18 percent of the meal amount (without the tax). The output from your program should include the tax amount, the tip amount, and the grand total for the meal including both the tax and the tip. Format the output so that all of the values are displayed using two decimal places."
   ]
  },
  {
   "cell_type": "code",
   "execution_count": null,
   "metadata": {},
   "outputs": [],
   "source": []
  },
  {
   "cell_type": "markdown",
   "metadata": {},
   "source": [
    "13. Write a program that reads a positive integer, n, from the user and then displays the sum of all of the integers from 1 to n. The sum of the first n positive integers can be computed using the formula: sum = (n)(n+1)/2"
   ]
  },
  {
   "cell_type": "code",
   "execution_count": null,
   "metadata": {},
   "outputs": [],
   "source": []
  }
 ],
 "metadata": {
  "kernelspec": {
   "display_name": "Python 3 (ipykernel)",
   "language": "python",
   "name": "python3"
  },
  "language_info": {
   "codemirror_mode": {
    "name": "ipython",
    "version": 3
   },
   "file_extension": ".py",
   "mimetype": "text/x-python",
   "name": "python",
   "nbconvert_exporter": "python",
   "pygments_lexer": "ipython3",
   "version": "3.9.13"
  }
 },
 "nbformat": 4,
 "nbformat_minor": 4
}
